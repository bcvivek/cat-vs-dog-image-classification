{
  "nbformat": 4,
  "nbformat_minor": 0,
  "metadata": {
    "colab": {
      "provenance": []
    },
    "kernelspec": {
      "name": "python3",
      "display_name": "Python 3"
    },
    "language_info": {
      "name": "python"
    }
  },
  "cells": [
    {
      "cell_type": "code",
      "execution_count": null,
      "metadata": {
        "id": "UIpEQK5U_iyx"
      },
      "outputs": [],
      "source": [
        "import tensorflow as tf\n",
        "import numpy as np\n",
        "from tensorflow import keras\n",
        "import os\n",
        "import cv2\n",
        "from tensorflow.keras.preprocessing.image import ImageDataGenerator\n",
        "from tensorflow.keras.preprocessing import image\n",
        "import matplotlib.pyplot as plt"
      ]
    },
    {
      "cell_type": "code",
      "source": [
        "train= ImageDataGenerator(rescale=1/255)\n",
        "test= ImageDataGenerator(rescale=1/255)\n",
        "\n",
        "train_dataset= train.flow_from_directory(\"C:/Users/lenova/Documents/Cat and DOG/dogcat/train/\",\n",
        "                                        target_size= (150,150),\n",
        "                                        batch_size= 32,\n",
        "                                        class_mode= 'binary')\n",
        "\n",
        "test_dataset= test.flow_from_directory(\"C:/Users/lenova/Documents/Cat and DOG/dogcat/validation/\",\n",
        "                                      target_size= (150,150),\n",
        "                                      batch_size= 32,\n",
        "                                      class_mode= 'binary')\n"
      ],
      "metadata": {
        "id": "f41CyyKQAKz1"
      },
      "execution_count": null,
      "outputs": []
    },
    {
      "cell_type": "code",
      "source": [
        "test_dataset.class_indices"
      ],
      "metadata": {
        "id": "dj_Am-GoAb34"
      },
      "execution_count": null,
      "outputs": []
    },
    {
      "cell_type": "code",
      "source": [
        "model= keras.Sequential()\n",
        "model.add(keras.layers.Conv2D(32,(3,3),activation='relu', input_shape=(150,150,3)))\n",
        "model.add(keras.layers.MaxPool2D(2,2))\n",
        "model.add(keras.layers.Conv2D(64,(3,3),activation='relu'))\n",
        "model.add(keras.layers.MaxPool2D(2,2))\n",
        "model.add(keras.layers.Conv2D(128,(3,3),activation='relu'))\n",
        "model.add(keras.layers.MaxPool2D(2,2))\n",
        "model.add(keras.layers.Conv2D(128,(3,3),activation='relu'))\n",
        "model.add(keras.layers.MaxPool2D(2,2))\n",
        "model.add(keras.layers.Flatten())\n",
        "model.add(keras.layers.Dense(512, activation='relu'))\n",
        "model.add(keras.layers.Dense(1,activation='sigmoid'))"
      ],
      "metadata": {
        "id": "-7PhnryiAfan"
      },
      "execution_count": null,
      "outputs": []
    },
    {
      "cell_type": "code",
      "source": [
        "model.compile(optimizer ='adam', loss= 'binary_crossentropy', metrics= ['accuracy'])"
      ],
      "metadata": {
        "id": "4Wr64accAizu"
      },
      "execution_count": null,
      "outputs": []
    },
    {
      "cell_type": "code",
      "source": [
        "history= model.fit(train_dataset, steps_per_epoch= 20, epochs=10, validation_data= test_dataset )"
      ],
      "metadata": {
        "id": "y9pgoKLCAm3e"
      },
      "execution_count": null,
      "outputs": []
    },
    {
      "cell_type": "code",
      "source": [
        "loss= history.history['loss']\n",
        "val_loss= history.history['val_loss']\n",
        "epochs= range(1, len(loss)+1)\n",
        "plt.plot(epochs, loss,'g', label= \"Training loss\")\n",
        "plt.plot(epochs, val_loss,'r',label= 'Validation loss')\n",
        "plt.title(\" Training and Validation loss\")\n",
        "plt.xlabel(\"epochs\")\n",
        "plt.ylabel('loss')\n",
        "plt.legend()\n",
        "plt.show()\n",
        "\n",
        "\n",
        "\n",
        "acc= history.history['accuracy']\n",
        "val_acc= history.history['val_accuracy']\n",
        "plt.plot(epochs,acc,'g', label= \"Training acc\")\n",
        "plt.plot(epochs, val_acc,'r',label= 'Validation acc')\n",
        "plt.title(\" Training and Validation accuracy\")\n",
        "plt.xlabel(\"epochs\")\n",
        "plt.ylabel('accuracy')\n",
        "plt.legend()\n",
        "plt.show()\n"
      ],
      "metadata": {
        "id": "P8KEfylgAqpa"
      },
      "execution_count": null,
      "outputs": []
    },
    {
      "cell_type": "code",
      "source": [
        "def predictImage(filename):\n",
        "    img1= image.load_img(filename,target_size=(150,150))\n",
        "    \n",
        "    plt.imshow(img1)\n",
        "    \n",
        "    \n",
        "    Y= image.img_to_array(img1)\n",
        "    \n",
        "    X=np.expand_dims(Y, axis=0)\n",
        "    val= model.predit(X)\n",
        "    print(val)\n",
        "    if val==1:\n",
        "        plt.xlabel('DOG', fontsize=30)\n",
        "        \n",
        "    elif val==0:\n",
        "        plt.xlabel('CAT',fontsize=30)\n"
      ],
      "metadata": {
        "id": "_BvOkHTQAuPd"
      },
      "execution_count": null,
      "outputs": []
    },
    {
      "cell_type": "code",
      "source": [
        "predictImage('#give file_path')"
      ],
      "metadata": {
        "id": "E7UUs10sNl_t"
      },
      "execution_count": null,
      "outputs": []
    }
  ]
}